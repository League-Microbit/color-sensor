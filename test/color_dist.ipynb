{
 "cells": [
  {
   "cell_type": "markdown",
   "id": "e80799a1",
   "metadata": {
    "vscode": {
     "languageId": "plaintext"
    }
   },
   "source": [
    "# Color Distance\n",
    "\n",
    "Find pairs of colors, from  measured values form the color sensor, that are maximally far apart. "
   ]
  },
  {
   "cell_type": "code",
   "execution_count": 5,
   "id": "2c061ee3",
   "metadata": {},
   "outputs": [],
   "source": [
    "# These are the colors in LAB space, as a dictionary with color names as keys.\n",
    "learnedColors = {\n",
    "    'Yellow': [52, -1, 16],\n",
    "    'Green': [55, -11, 23],\n",
    "    'Blue': [57, -3, 2],\n",
    "    'Purple': [54, 0, 11],\n",
    "    'Red': [54, 3, 12],\n",
    "    'Orange': [53, 6, 15],\n",
    "    'Pink': [53, 7, 13]\n",
    "}\n"
   ]
  },
  {
   "cell_type": "code",
   "execution_count": 6,
   "id": "cba6635d",
   "metadata": {},
   "outputs": [
    {
     "name": "stderr",
     "output_type": "stream",
     "text": [
      "/var/folders/ft/vb_vz6jn48s5nr_fr9mhxt8m0000gn/T/ipykernel_64538/2181827254.py:14: RuntimeWarning: invalid value encountered in multiply\n",
      "  farthest_idx = np.argmax(distances[i] + np.eye(len(color_names))[i]*-np.inf)\n"
     ]
    },
    {
     "data": {
      "text/plain": [
       "{'Yellow': 'Green',\n",
       " 'Green': 'Yellow',\n",
       " 'Blue': 'Yellow',\n",
       " 'Purple': 'Yellow',\n",
       " 'Red': 'Yellow',\n",
       " 'Orange': 'Yellow',\n",
       " 'Pink': 'Yellow'}"
      ]
     },
     "execution_count": 6,
     "metadata": {},
     "output_type": "execute_result"
    }
   ],
   "source": [
    "import numpy as np\n",
    "\n",
    "# Convert the color dictionary to a list of names and a numpy array of LAB values\n",
    "color_names = list(learnedColors.keys())\n",
    "color_values = np.array(list(learnedColors.values()))\n",
    "\n",
    "# Compute pairwise Euclidean distances\n",
    "distances = np.linalg.norm(color_values[:, np.newaxis, :] - color_values[np.newaxis, :, :], axis=2)\n",
    "\n",
    "# For each color, find the index of the farthest color\n",
    "farthest = {}\n",
    "for i, name in enumerate(color_names):\n",
    "    # Exclude self (distance zero)\n",
    "    farthest_idx = np.argmax(distances[i] + np.eye(len(color_names))[i]*-np.inf)\n",
    "    farthest[name] = color_names[farthest_idx]\n",
    "\n",
    "farthest"
   ]
  },
  {
   "cell_type": "code",
   "execution_count": 7,
   "id": "347d4d28",
   "metadata": {},
   "outputs": [
    {
     "name": "stdout",
     "output_type": "stream",
     "text": [
      "Unique sorted distances: [ 2.23606798  3.16227766  4.24264069  4.35889894  5.47722558  6.\n",
      "  7.14142843  7.28010989  7.34846923  8.60232527  9.94987437 12.04159458\n",
      " 12.56980509 15.         15.39480432 16.30950643 17.8325545  18.89444363\n",
      " 20.68816087 22.56102835]\n",
      "Farthest pairs (greedy, removing both colors each time):\n",
      "Green - Blue: 22.56\n",
      "Yellow - Pink: 8.60\n",
      "Purple - Orange: 7.28\n"
     ]
    }
   ],
   "source": [
    "# Compute the distance matrix (already computed as 'distances')\n",
    "# Get unique distances (excluding zero/self-distances), sorted\n",
    "unique_distances = np.unique(distances[np.triu_indices(len(color_names), k=1)])\n",
    "unique_distances_sorted = np.sort(unique_distances)\n",
    "print(\"Unique sorted distances:\", unique_distances_sorted)\n",
    "\n",
    "# Greedy selection of farthest pairs, removing both colors from the pool after each selection\n",
    "remaining_indices = set(range(len(color_names)))\n",
    "pairs = []\n",
    "while len(remaining_indices) > 1:\n",
    "    # Find the pair with the largest distance among remaining colors\n",
    "    max_dist = -np.inf\n",
    "    max_pair = None\n",
    "    for i in remaining_indices:\n",
    "        for j in remaining_indices:\n",
    "            if i < j and distances[i, j] > max_dist:\n",
    "                max_dist = distances[i, j]\n",
    "                max_pair = (i, j)\n",
    "    if max_pair is None:\n",
    "        break\n",
    "    i, j = max_pair\n",
    "    pairs.append(((color_names[i], color_names[j]), max_dist))\n",
    "    # Remove both colors from the pool\n",
    "    remaining_indices.remove(i)\n",
    "    remaining_indices.remove(j)\n",
    "\n",
    "print(\"Farthest pairs (greedy, removing both colors each time):\")\n",
    "for (c1, c2), dist in pairs:\n",
    "    print(f\"{c1} - {c2}: {dist:.2f}\")"
   ]
  },
  {
   "cell_type": "code",
   "execution_count": 8,
   "id": "c6e24397",
   "metadata": {},
   "outputs": [
    {
     "name": "stdout",
     "output_type": "stream",
     "text": [
      "Best grouping (max mean RMS distance):\n",
      "Group 1: ['Yellow', 'Blue', 'Orange']\n",
      "Group 2: ['Green', 'Purple', 'Pink']\n",
      "Mean RMS distance: 14.615761239436658\n"
     ]
    }
   ],
   "source": [
    "import itertools\n",
    "\n",
    "# Exclude one color to get 6 colors\n",
    "six_color_indices = [i for i in range(len(color_names)) if i != 4]  # Exclude 'Red' (index 4) for example\n",
    "six_color_names = [color_names[i] for i in six_color_indices]\n",
    "\n",
    "# All combinations of 3 out of 6\n",
    "best_groups = None\n",
    "best_mean_rms = -np.inf\n",
    "\n",
    "for group1_indices in itertools.combinations(range(6), 3):\n",
    "    group2_indices = [i for i in range(6) if i not in group1_indices]\n",
    "    # Get indices in the original color_values array\n",
    "    group1 = [six_color_indices[i] for i in group1_indices]\n",
    "    group2 = [six_color_indices[i] for i in group2_indices]\n",
    "    # Compute pairwise distances for each group\n",
    "    dists1 = []\n",
    "    for i, j in itertools.combinations(group1, 2):\n",
    "        dists1.append(distances[i, j])\n",
    "    dists2 = []\n",
    "    for i, j in itertools.combinations(group2, 2):\n",
    "        dists2.append(distances[i, j])\n",
    "    rms1 = np.sqrt(np.mean(np.square(dists1)))\n",
    "    rms2 = np.sqrt(np.mean(np.square(dists2)))\n",
    "    mean_rms = (rms1 + rms2) / 2\n",
    "    if mean_rms > best_mean_rms:\n",
    "        best_mean_rms = mean_rms\n",
    "        best_groups = ([color_names[i] for i in group1], [color_names[i] for i in group2])\n",
    "\n",
    "print(\"Best grouping (max mean RMS distance):\")\n",
    "print(\"Group 1:\", best_groups[0])\n",
    "print(\"Group 2:\", best_groups[1])\n",
    "print(\"Mean RMS distance:\", best_mean_rms)"
   ]
  },
  {
   "cell_type": "code",
   "execution_count": null,
   "id": "b2192677",
   "metadata": {},
   "outputs": [],
   "source": []
  }
 ],
 "metadata": {
  "kernelspec": {
   "display_name": "test",
   "language": "python",
   "name": "python3"
  },
  "language_info": {
   "codemirror_mode": {
    "name": "ipython",
    "version": 3
   },
   "file_extension": ".py",
   "mimetype": "text/x-python",
   "name": "python",
   "nbconvert_exporter": "python",
   "pygments_lexer": "ipython3",
   "version": "3.13.6"
  }
 },
 "nbformat": 4,
 "nbformat_minor": 5
}
